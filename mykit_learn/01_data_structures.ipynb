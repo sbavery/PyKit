{
 "cells": [
  {
   "cell_type": "markdown",
   "id": "bcbb6c29",
   "metadata": {},
   "source": [
    "<a id='data-structures'></a>\n",
    "# Data Structures\n",
    "* [Arrays and Lists](#arrays-and-lists)\n",
    "* [2D Arrays](#2d-arrays)\n",
    "* [Strings](#strings)\n",
    "* [Linked List](#linked-list)\n",
    "* [Stack](#stack)\n",
    "* [Queue](#queue)\n",
    "* [Hash Table & Hash Set](#hash-table-and-hash-set)\n",
    "* [Heap](#heap)\n",
    "* [Graphs](#graphs)\n",
    "* [Binary Tree](#binary-tree)\n",
    "* [Binary Search Tree](#binary-search-tree)\n",
    "* [Trie](#trie)"
   ]
  },
  {
   "cell_type": "code",
   "execution_count": null,
   "id": "06642ad9",
   "metadata": {},
   "outputs": [],
   "source": [
    "#!pip install big_o\n",
    "import big_o\n",
    "from big_o import big_o as O"
   ]
  },
  {
   "cell_type": "markdown",
   "id": "b610e32f",
   "metadata": {},
   "source": [
    "<a id='arrays-and-lists'></a>\n",
    "## Arrays and Lists [^](#data-structures)\n"
   ]
  },
  {
   "cell_type": "code",
   "execution_count": null,
   "id": "c440e535",
   "metadata": {},
   "outputs": [],
   "source": [
    "list = [1, 2, 3, 4]\n",
    "list"
   ]
  },
  {
   "cell_type": "code",
   "execution_count": null,
   "id": "5c6c4791",
   "metadata": {},
   "outputs": [],
   "source": [
    "import numpy as np\n",
    "array = np.array([5, 6, 7, 8])\n",
    "array"
   ]
  },
  {
   "cell_type": "markdown",
   "id": "eeed1dc6",
   "metadata": {},
   "source": [
    "<a id='2d-arrays'></a>\n",
    "## 2D Arrays [^](#data-structures)"
   ]
  },
  {
   "cell_type": "code",
   "execution_count": null,
   "id": "8714963c",
   "metadata": {},
   "outputs": [],
   "source": [
    "arr2d = [[1,2],[3,4],[5,6]]\n",
    "arr2d"
   ]
  },
  {
   "cell_type": "markdown",
   "id": "7a0e0e6c",
   "metadata": {},
   "source": [
    "<a id='strings'></a>\n",
    "## Strings [^](#data-structures)"
   ]
  },
  {
   "cell_type": "code",
   "execution_count": null,
   "id": "609ec2e2",
   "metadata": {},
   "outputs": [],
   "source": [
    "s = 'Hello world'; print('Original string: '+s)\n",
    "strip = s.strip('world'); print('Strip world: '+strip)\n",
    "ind = s[4]; print('Index 4: '+ind)\n",
    "w = 'world'; print('Concat: '+strip+w)"
   ]
  },
  {
   "cell_type": "markdown",
   "id": "14825f00",
   "metadata": {},
   "source": [
    "<a id='linked-list'></a>\n",
    "## Linked List [^](#data-structures)"
   ]
  },
  {
   "cell_type": "code",
   "execution_count": null,
   "id": "63cf94b4",
   "metadata": {},
   "outputs": [],
   "source": [
    "class Link:\n",
    "    empty = ()\n",
    "    \n",
    "    def __init__(self,first,rest=empty):\n",
    "        assert rest is Link.empty or isinstance(rest, Link)\n",
    "        self.first = first\n",
    "        self.rest = rest\n",
    "        \n",
    "    def __repr__(self):\n",
    "        if self.rest:\n",
    "            rest_repr = ', ' + repr(self.rest)\n",
    "        else:\n",
    "            rest_repr = ''\n",
    "        return 'Link(' + repr(self.first) + rest_repr + ')'\n",
    "\n",
    "    def __str__(self):\n",
    "        if self.rest:\n",
    "            rest_str = '->' + str(self.rest)\n",
    "        else:\n",
    "            rest_str = ''\n",
    "        return '[' + str(self.first) + ']' + rest_str\n",
    "\n",
    "def add(s, v):\n",
    "    assert s is not Link.empty\n",
    "    if s.first > v:\n",
    "        s.first, s.rest = v, Link(s.first, s.rest)\n",
    "    elif s.first < v and s.rest==():\n",
    "        s.rest = Link(v)\n",
    "    elif s.first < v:\n",
    "        add(s.rest,v)\n",
    "    return s\n",
    "\n",
    "s = Link(1, Link(3, Link(5)))\n",
    "add(s,4)\n",
    "add(s,6)\n",
    "add(s,100)\n",
    "print(s)\n"
   ]
  },
  {
   "cell_type": "markdown",
   "id": "71edebf5",
   "metadata": {},
   "source": [
    "<a id='stack'></a>\n",
    "## Stack [^](#data-structures)"
   ]
  },
  {
   "cell_type": "code",
   "execution_count": null,
   "id": "0e23e205",
   "metadata": {},
   "outputs": [],
   "source": [
    "# List\n",
    "stack = []\n",
    " \n",
    "# append() function to push\n",
    "# element in the stack\n",
    "def list_append(lst,val=\"1\"):\n",
    "    lst.append(val)\n",
    "\n",
    "#print('Big O for Stack Append: ')\n",
    "#print(O(list_append, big_o.datagen.range_n, n_measures=100)[0])\n",
    "list_append(stack,'a'); list_append(stack,'b'); list_append(stack,'c')\n",
    "print('Initial stack O(n) appends:')\n",
    "print(stack)\n",
    "print('As the stack grows bigger than its memory allocation, new memory must be allocated dynamically')\n",
    " \n",
    "# pop() function to pop\n",
    "# element from stack in\n",
    "# LIFO order\n",
    "print('\\nElements popped from stack LIFO O(n):')\n",
    "print(stack.pop(),stack.pop(),stack.pop())\n",
    " \n",
    "print('\\nStack after elements are popped:')\n",
    "print(stack)"
   ]
  },
  {
   "cell_type": "code",
   "execution_count": null,
   "id": "0bdddff4",
   "metadata": {},
   "outputs": [],
   "source": [
    "# collections.deque\n",
    "from collections import deque\n",
    "stack = deque()\n",
    " \n",
    "# append() function to push\n",
    "# element in the stack\n",
    "stack.append('a');stack.append('b');stack.append('c')\n",
    "print('Initial stack O(1) appends:')\n",
    "print(stack)\n",
    " \n",
    "# pop() function to pop\n",
    "# element from stack in\n",
    "# LIFO order\n",
    "print('\\nElements popped from stack LIFO O(1):')\n",
    "print(stack.pop(),stack.pop(),stack.pop())\n",
    " \n",
    "print('\\nStack after elements are popped:')\n",
    "print(stack)"
   ]
  },
  {
   "cell_type": "markdown",
   "id": "1c9b4764",
   "metadata": {},
   "source": [
    "<a id='queue'></a>\n",
    "## Queue [^](#data-structures)"
   ]
  },
  {
   "cell_type": "code",
   "execution_count": null,
   "id": "a5717c77",
   "metadata": {},
   "outputs": [],
   "source": [
    "# List\n",
    "  \n",
    "# Initializing a queue\n",
    "queue = []\n",
    "  \n",
    "# Adding elements to the queue\n",
    "queue.append('a'); queue.append('b'); queue.append('c')\n",
    "  \n",
    "print(\"Initial queue O(n)\")\n",
    "print(queue)\n",
    "  \n",
    "# Removing elements from the queue\n",
    "print(\"\\nElements dequeued from queue O(n)\")\n",
    "print(queue.pop(0),queue.pop(0),queue.pop(0))\n",
    "  \n",
    "print(\"\\nQueue after removing elements\")\n",
    "print(queue)"
   ]
  },
  {
   "cell_type": "code",
   "execution_count": null,
   "id": "b1401746",
   "metadata": {},
   "outputs": [],
   "source": [
    "# collections.dequeue\n",
    "from collections import deque\n",
    "  \n",
    "# Initializing a queue\n",
    "q = deque()\n",
    "  \n",
    "# Adding elements to a queue\n",
    "q.append('a')\n",
    "q.append('b')\n",
    "q.append('c')\n",
    "  \n",
    "print(\"Initial queue\")\n",
    "print(q)\n",
    "  \n",
    "# Removing elements from a queue\n",
    "print(\"\\nElements dequeued from the queue\")\n",
    "print(q.popleft(), q.popleft(), q.popleft())\n",
    "  \n",
    "print(\"\\nQueue after removing elements\")\n",
    "print(q)"
   ]
  },
  {
   "cell_type": "code",
   "execution_count": null,
   "id": "8b3858e0",
   "metadata": {},
   "outputs": [],
   "source": [
    "# Python Queue\n",
    "from queue import Queue\n",
    "  \n",
    "# Initializing a queue\n",
    "q = Queue(maxsize = 3)\n",
    "# maxsize of 0 is infinite queue\n",
    "  \n",
    "# qsize() give the maxsize \n",
    "# of the Queue \n",
    "print(q.qsize()) \n",
    "  \n",
    "# Adding of element to queue\n",
    "q.put('a')\n",
    "q.put('b')\n",
    "q.put('c')\n",
    "  \n",
    "# Return Boolean for Full \n",
    "# Queue \n",
    "print(\"\\nFull: \", q.full()) \n",
    "  \n",
    "# Removing element from queue\n",
    "print(\"\\nElements dequeued from the queue\")\n",
    "print(q.get(), q.get(), q.get())\n",
    "  \n",
    "# Return Boolean for Empty \n",
    "# Queue \n",
    "print(\"\\nEmpty: \", q.empty())\n",
    "  \n",
    "q.put(1)\n",
    "print(\"\\nput(1) -> Empty: \", q.empty()) \n",
    "print(\"Full: \", q.full())"
   ]
  },
  {
   "cell_type": "markdown",
   "id": "3fc2a9c4",
   "metadata": {},
   "source": [
    "<a id='hash-table-and-hash-set'></a>\n",
    "## Hash Table and Hash Set [^](#data-structures)"
   ]
  },
  {
   "cell_type": "code",
   "execution_count": null,
   "id": "88b8dc3f",
   "metadata": {},
   "outputs": [],
   "source": [
    "# dict\n",
    "d = {1:'yo', 2:'wassup', 3:'bro'}\n",
    "keys = d.keys()\n",
    "values = d.values()\n",
    "print(d[1],d[3]+', '+d[2]+'!')"
   ]
  },
  {
   "cell_type": "code",
   "execution_count": null,
   "id": "9573dd8c",
   "metadata": {},
   "outputs": [],
   "source": [
    "# set\n",
    "s = {'hello', 'good', 'sir'}\n",
    "'hello' in s"
   ]
  },
  {
   "cell_type": "markdown",
   "id": "1854f8d0",
   "metadata": {},
   "source": [
    "<a id='heap'></a>\n",
    "## Heap [^](#data-structures)"
   ]
  },
  {
   "cell_type": "markdown",
   "id": "44f2f31d",
   "metadata": {},
   "source": [
    "<a id='graphs'></a>\n",
    "## Graphs [^](#data-structures)"
   ]
  },
  {
   "cell_type": "markdown",
   "id": "632b1265",
   "metadata": {},
   "source": [
    "<a id='binary-tree'></a>\n",
    "## Binary Tree [^](#data-structures)"
   ]
  },
  {
   "cell_type": "markdown",
   "id": "409cf89a",
   "metadata": {},
   "source": [
    "Simple Binary Tree"
   ]
  },
  {
   "cell_type": "code",
   "execution_count": null,
   "id": "ca236299",
   "metadata": {},
   "outputs": [],
   "source": [
    "class Node:\n",
    "    def __init__(self, val):\n",
    "        self.left = None\n",
    "        self.right = None\n",
    "        self.val = val\n",
    "\n",
    "class BinaryTree:\n",
    "    def __init__(self):\n",
    "        self.root = None\n",
    "        \n",
    "    def add(self, node):\n",
    "        if self.root == None:\n",
    "            self.root = node\n",
    "        else:\n",
    "            self._add(node.val, self.root)\n",
    "            \n",
    "    def _add(self, val, node):\n",
    "        if val < node.val:\n",
    "            if node.left == None:\n",
    "                node.left = Node(val)\n",
    "            else:\n",
    "                self._add(val, node.left)\n",
    "        else:\n",
    "            if node.right == None:\n",
    "                node.right = Node(val)\n",
    "            else:\n",
    "                self._add(val, node.right)\n",
    "\n",
    "b = BinaryTree()\n",
    "b.add(Node(2))\n",
    "b.add(Node(1))\n",
    "b.add(Node(3))\n",
    "b.root.right.val"
   ]
  },
  {
   "cell_type": "markdown",
   "id": "cf11674e",
   "metadata": {},
   "source": [
    "Binary Tree with Array Inputs and Repr"
   ]
  },
  {
   "cell_type": "code",
   "execution_count": null,
   "id": "c3576cd8",
   "metadata": {},
   "outputs": [],
   "source": [
    "class Node:\n",
    "    def __init__(self, val):\n",
    "        self.left = None\n",
    "        self.right = None\n",
    "        self.value = val\n",
    "    \n",
    "    def __repr__(self):\n",
    "        left_repr, right_repr = '', ''\n",
    "        if self.left:\n",
    "            left_repr = '\\n->' + repr(self.left)\n",
    "        if self.right:\n",
    "            right_repr = '->' + repr(self.right)\n",
    "        return repr(self.value) + left_repr + right_repr\n",
    "        \n",
    "class BinaryTree:\n",
    "    def __init__(self):\n",
    "        self.root = None\n",
    "        \n",
    "    def add(self, vals):\n",
    "        if isinstance(vals,list) == False:\n",
    "            vals = [vals]\n",
    "        for val in vals:\n",
    "            if self.root == None:\n",
    "                self.root = Node(val)\n",
    "            else:\n",
    "                self._add(val, self.root)\n",
    "            \n",
    "    def _add(self, val, root):\n",
    "        if val < root.value:\n",
    "            if root.left == None:\n",
    "                root.left = Node(val)\n",
    "            else:\n",
    "                self._add(val, root.left)\n",
    "        else:\n",
    "            if root.right == None:\n",
    "                root.right = Node(val)\n",
    "            else:\n",
    "                self._add(val, root.right)\n",
    "                \n",
    "    def __repr__(self):\n",
    "        return repr(self.root.value) \\\n",
    "    + '\\nR->'+repr(self.root.right) \\\n",
    "    + '\\nL->'+repr(self.root.left)\n",
    "\n",
    "b = BinaryTree()\n",
    "b.add([5,4,6,3,7])\n",
    "b"
   ]
  },
  {
   "cell_type": "markdown",
   "id": "91cd7f57",
   "metadata": {},
   "source": [
    "<a id='binary-search-tree'></a>\n",
    "## Binary Search Tree [^](#data-structures)"
   ]
  },
  {
   "cell_type": "markdown",
   "id": "d0407ec6",
   "metadata": {},
   "source": [
    "<a id='trie'></a>\n",
    "## Trie [^](#data-structures)"
   ]
  }
 ],
 "metadata": {
  "kernelspec": {
   "display_name": "Python 3.10.5 64-bit",
   "language": "python",
   "name": "python3"
  },
  "language_info": {
   "codemirror_mode": {
    "name": "ipython",
    "version": 3
   },
   "file_extension": ".py",
   "mimetype": "text/x-python",
   "name": "python",
   "nbconvert_exporter": "python",
   "pygments_lexer": "ipython3",
   "version": "3.10.5"
  },
  "vscode": {
   "interpreter": {
    "hash": "918e1063f88a7aff7ffeacb262520d25bb7c7a1fef4db4c815a71d42e4b3d393"
   }
  }
 },
 "nbformat": 4,
 "nbformat_minor": 5
}
