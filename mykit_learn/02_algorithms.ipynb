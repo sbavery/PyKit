{
 "cells": [
  {
   "cell_type": "markdown",
   "id": "ed1925f9",
   "metadata": {},
   "source": [
    "<a id='algorithms'></a>\n",
    "# Algorithms\n",
    "* [Binary Search](#binary-search)\n",
    "* [Depth First Search](#depth-first-search)\n",
    "* [Recursion + Memoization](#recursion-and-memoization)\n",
    "* [Hash Table + Linked List](#hash-table-and-linked-list)\n",
    "* [Binary Tree Search](#binary-tree-search)\n",
    "* [Efficiency](#efficiency)"
   ]
  },
  {
   "cell_type": "markdown",
   "id": "7ddd19b6",
   "metadata": {},
   "source": [
    "<a id='binary-search'></a>\n",
    "## Binary Search [^](#algorithms)"
   ]
  },
  {
   "cell_type": "markdown",
   "id": "48f56e14",
   "metadata": {},
   "source": [
    "<a id='depth-first-search'></a>\n",
    "## Depth First Search [^](#algorithms)"
   ]
  },
  {
   "cell_type": "markdown",
   "id": "ccddfecd",
   "metadata": {},
   "source": [
    "<a id='recursion_and_memoization'></a>\n",
    "## Recursion and Memoization [^](#algorithms)"
   ]
  },
  {
   "cell_type": "code",
   "execution_count": null,
   "id": "af22b717",
   "metadata": {},
   "outputs": [],
   "source": [
    "def fib(n):\n",
    "    if n == 0 or n == 1:\n",
    "        return n\n",
    "    else:\n",
    "        return fib(n-2) + fib(n-1)\n",
    "\n",
    "def memo(f):\n",
    "    cache = {}\n",
    "    def memoized(n):\n",
    "        if n not in cache:\n",
    "            cache[n] = f(n)\n",
    "        return cache[n]\n",
    "    return memoized"
   ]
  },
  {
   "cell_type": "markdown",
   "id": "a029d5d6",
   "metadata": {},
   "source": [
    "<a id='hash-table-and-linked-list'></a>\n",
    "## Hash Table and Linked List [^](#algorithms)"
   ]
  },
  {
   "cell_type": "markdown",
   "id": "12ef303a",
   "metadata": {},
   "source": [
    "<a id='binary_tree_search'></a>\n",
    "## Binary Tree Search [^](#algorithms)"
   ]
  },
  {
   "cell_type": "markdown",
   "id": "fc478c26",
   "metadata": {},
   "source": [
    "<a id='efficiency'></a>\n",
    "## Efficiency [^](#algorithms)"
   ]
  },
  {
   "cell_type": "code",
   "execution_count": null,
   "id": "171f96aa",
   "metadata": {},
   "outputs": [],
   "source": [
    "def count(f):\n",
    "    def counted(*args):\n",
    "        counted.call_count += 1\n",
    "        return f(*args)\n",
    "    counted.call_count = 0\n",
    "    return counted\n",
    "\n",
    "def count_frames(f):\n",
    "    def counted(n):\n",
    "        counted.open_count += 1\n",
    "        counted.max_count = max(counted.max_count, counted.open_count)\n",
    "        result = f(n)\n",
    "        counted.open_count -= 1\n",
    "        return result\n",
    "    counted.open_count = 0\n",
    "    counted.max_count = 0\n",
    "    return counted"
   ]
  }
 ],
 "metadata": {
  "kernelspec": {
   "display_name": "Python 3.10.5 64-bit",
   "language": "python",
   "name": "python3"
  },
  "language_info": {
   "codemirror_mode": {
    "name": "ipython",
    "version": 3
   },
   "file_extension": ".py",
   "mimetype": "text/x-python",
   "name": "python",
   "nbconvert_exporter": "python",
   "pygments_lexer": "ipython3",
   "version": "3.10.5"
  },
  "vscode": {
   "interpreter": {
    "hash": "918e1063f88a7aff7ffeacb262520d25bb7c7a1fef4db4c815a71d42e4b3d393"
   }
  }
 },
 "nbformat": 4,
 "nbformat_minor": 5
}
