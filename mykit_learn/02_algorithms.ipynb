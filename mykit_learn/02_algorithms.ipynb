{
 "cells": [
  {
   "cell_type": "markdown",
   "id": "ed1925f9",
   "metadata": {},
   "source": [
    "<a id='algorithms'></a>\n",
    "# Algorithms\n",
    "* [Binary Search](#binary-search)\n",
    "* [Depth First Search](#depth-first-search)\n",
    "* [Breadth First Search](#breadth-first-search)\n",
    "* [Recursion + Memoization](#recursion-and-memoization)\n",
    "* [Hash Table + Linked List](#hash-table-and-linked-list)\n",
    "* [Binary Tree Search](#binary-tree-search)\n",
    "* [Efficiency](#efficiency)"
   ]
  },
  {
   "cell_type": "markdown",
   "id": "7ddd19b6",
   "metadata": {},
   "source": [
    "<a id='binary-search'></a>\n",
    "## Binary Search [^](#algorithms)"
   ]
  },
  {
   "cell_type": "code",
   "execution_count": null,
   "id": "e672887c",
   "metadata": {},
   "outputs": [],
   "source": [
    "def binary_search(list, val, low, high):\n",
    "    # O(logn) time and space\n",
    "    if high > low:\n",
    "        mid = (low + high) // 2\n",
    "        if list[mid] == val:\n",
    "            return mid\n",
    "        elif list[mid] < val:\n",
    "            return binary_search(list, val, mid+1, high)\n",
    "        else:\n",
    "            return binary_search(list, val, low, mid-1)\n",
    "    else:\n",
    "        return None"
   ]
  },
  {
   "cell_type": "code",
   "execution_count": null,
   "id": "6ee06359",
   "metadata": {},
   "outputs": [],
   "source": [
    "def binary_search_iterative(list, val, low, high):\n",
    "    # O(logn) time and O(1) space\n",
    "    while high > low:\n",
    "        mid = (low + high) // 2\n",
    "        if list[mid] == val:\n",
    "            return mid\n",
    "        elif list[mid] < val:\n",
    "            low = mid+1\n",
    "        else:\n",
    "            high = mid-1\n",
    "    return None"
   ]
  },
  {
   "cell_type": "code",
   "execution_count": null,
   "id": "adb99b09",
   "metadata": {},
   "outputs": [],
   "source": [
    "list1 = [1,3,5,7,9,11,22,32,54,65]\n",
    "low, high = 0, len(list1)\n",
    "val = 7\n",
    "print(binary_search(list1, val, low, high))\n",
    "print(binary_search_iterative(list1, val, low, high))"
   ]
  },
  {
   "cell_type": "markdown",
   "id": "48f56e14",
   "metadata": {},
   "source": [
    "<a id='depth-first-search'></a>\n",
    "## Depth First Search [^](#algorithms)"
   ]
  },
  {
   "cell_type": "code",
   "execution_count": null,
   "id": "b86669aa",
   "metadata": {},
   "outputs": [],
   "source": [
    "def dfs(graph, visited, node):\n",
    "    if node not in visited:\n",
    "        print(node)\n",
    "        visited.add(node)\n",
    "        for neighbor in graph[node]:\n",
    "            dfs(graph, visited, neighbor)"
   ]
  },
  {
   "cell_type": "code",
   "execution_count": 60,
   "id": "0e53a03b",
   "metadata": {},
   "outputs": [],
   "source": [
    "def dfs(graph, visited, node):\n",
    "    if node not in visited:\n",
    "        visited.append(node)\n",
    "        for adj in graph[node]:\n",
    "            dfs(graph, visited, adj)"
   ]
  },
  {
   "cell_type": "code",
   "execution_count": 61,
   "id": "6bf5e2bf",
   "metadata": {},
   "outputs": [
    {
     "data": {
      "text/plain": [
       "['5', '3', '2', '4', '8', '7']"
      ]
     },
     "execution_count": 61,
     "metadata": {},
     "output_type": "execute_result"
    }
   ],
   "source": [
    "graph = {\n",
    "  '5' : ['3','7'],\n",
    "  '3' : ['2', '4'],\n",
    "  '7' : ['8'],\n",
    "  '2' : [],\n",
    "  '4' : ['8'],\n",
    "  '8' : []\n",
    "}\n",
    "\n",
    "visited = []\n",
    "dfs(graph, visited, '5')\n",
    "visited"
   ]
  },
  {
   "cell_type": "markdown",
   "id": "242de4c3",
   "metadata": {},
   "source": [
    "<a id='breadth-first-search'></a>\n",
    "## Breadth First Search [^](#algorithms)"
   ]
  },
  {
   "cell_type": "code",
   "execution_count": 62,
   "id": "f8a76057",
   "metadata": {},
   "outputs": [],
   "source": [
    "def bfs(graph, visited, node):\n",
    "    queue = [node]\n",
    "    visited.append(node)\n",
    "    while len(queue) > 0:\n",
    "        curr = queue.pop(0)\n",
    "        for adj in graph[curr]:\n",
    "            if adj not in visited:\n",
    "                visited.append(adj)\n",
    "                queue.append(adj)"
   ]
  },
  {
   "cell_type": "code",
   "execution_count": 63,
   "id": "6c6883fa",
   "metadata": {},
   "outputs": [
    {
     "data": {
      "text/plain": [
       "['5', '3', '7', '2', '4', '8']"
      ]
     },
     "execution_count": 63,
     "metadata": {},
     "output_type": "execute_result"
    }
   ],
   "source": [
    "graph = {\n",
    "  '5' : ['3','7'],\n",
    "  '3' : ['2', '4'],\n",
    "  '7' : ['8'],\n",
    "  '2' : [],\n",
    "  '4' : ['8'],\n",
    "  '8' : []\n",
    "}\n",
    "\n",
    "visited = []\n",
    "bfs(graph, visited, '5')\n",
    "visited"
   ]
  },
  {
   "cell_type": "markdown",
   "id": "ccddfecd",
   "metadata": {},
   "source": [
    "<a id='recursion_and_memoization'></a>\n",
    "## Recursion and Memoization [^](#algorithms)"
   ]
  },
  {
   "cell_type": "code",
   "execution_count": 96,
   "id": "af22b717",
   "metadata": {},
   "outputs": [],
   "source": [
    "# import functools\n",
    "# @functools.lru_cache(maxsize=128)\n",
    "def fib(n):\n",
    "    if n == 0 or n == 1:\n",
    "        return n\n",
    "    else:\n",
    "        return fib(n-2) + fib(n-1)"
   ]
  },
  {
   "cell_type": "code",
   "execution_count": 100,
   "id": "dac37678",
   "metadata": {},
   "outputs": [],
   "source": [
    "def memo(f):\n",
    "    cache = {}\n",
    "    def memoized(n):\n",
    "        if n not in cache:\n",
    "            cache[n] = f(n)\n",
    "        return cache[n]\n",
    "    return memoized"
   ]
  },
  {
   "cell_type": "code",
   "execution_count": 101,
   "id": "6f59293d",
   "metadata": {},
   "outputs": [
    {
     "data": {
      "text/plain": [
       "5702887"
      ]
     },
     "execution_count": 101,
     "metadata": {},
     "output_type": "execute_result"
    }
   ],
   "source": [
    "fib(34)"
   ]
  },
  {
   "cell_type": "code",
   "execution_count": 102,
   "id": "defb5562",
   "metadata": {},
   "outputs": [
    {
     "data": {
      "text/plain": [
       "5702887"
      ]
     },
     "execution_count": 102,
     "metadata": {},
     "output_type": "execute_result"
    }
   ],
   "source": [
    "fib_memo = memo(fib)\n",
    "fib_memo(34)\n",
    "fib_memo(34)"
   ]
  },
  {
   "cell_type": "markdown",
   "id": "a029d5d6",
   "metadata": {},
   "source": [
    "<a id='hash-table-and-linked-list'></a>\n",
    "## Hash Table and Linked List [^](#algorithms)"
   ]
  },
  {
   "cell_type": "markdown",
   "id": "12ef303a",
   "metadata": {},
   "source": [
    "<a id='binary_tree_search'></a>\n",
    "## Binary Tree Search [^](#algorithms)"
   ]
  },
  {
   "cell_type": "markdown",
   "id": "fc478c26",
   "metadata": {},
   "source": [
    "<a id='efficiency'></a>\n",
    "## Efficiency [^](#algorithms)"
   ]
  },
  {
   "cell_type": "code",
   "execution_count": null,
   "id": "171f96aa",
   "metadata": {},
   "outputs": [],
   "source": [
    "def count(f):\n",
    "    def counted(*args):\n",
    "        counted.call_count += 1\n",
    "        return f(*args)\n",
    "    counted.call_count = 0\n",
    "    return counted\n",
    "\n",
    "def count_frames(f):\n",
    "    def counted(n):\n",
    "        counted.open_count += 1\n",
    "        counted.max_count = max(counted.max_count, counted.open_count)\n",
    "        result = f(n)\n",
    "        counted.open_count -= 1\n",
    "        return result\n",
    "    counted.open_count = 0\n",
    "    counted.max_count = 0\n",
    "    return counted"
   ]
  }
 ],
 "metadata": {
  "kernelspec": {
   "display_name": "Python 3.10.5 64-bit",
   "language": "python",
   "name": "python3"
  },
  "language_info": {
   "codemirror_mode": {
    "name": "ipython",
    "version": 3
   },
   "file_extension": ".py",
   "mimetype": "text/x-python",
   "name": "python",
   "nbconvert_exporter": "python",
   "pygments_lexer": "ipython3",
   "version": "3.10.5"
  },
  "vscode": {
   "interpreter": {
    "hash": "918e1063f88a7aff7ffeacb262520d25bb7c7a1fef4db4c815a71d42e4b3d393"
   }
  }
 },
 "nbformat": 4,
 "nbformat_minor": 5
}
