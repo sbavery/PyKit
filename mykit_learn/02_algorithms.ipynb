{
 "cells": [
  {
   "cell_type": "markdown",
   "id": "ed1925f9",
   "metadata": {},
   "source": [
    "# Algorithms\n",
    "* Binary Search\n",
    "* Depth First Search\n",
    "* Recursion + Memoization\n",
    "* Hash Table + Linked List combination\n",
    "* Searching a Binary Tree etc."
   ]
  },
  {
   "cell_type": "markdown",
   "id": "bcbb6c29",
   "metadata": {},
   "source": [
    "# Data Structures\n",
    "* Arrays and Lists\n",
    "* 2D Arrays\n",
    "* Strings\n",
    "* Linked List\n",
    "* Stack\n",
    "* Queue\n",
    "* Hash Table & Hash Set\n",
    "* Heap\n",
    "* Graphs\n",
    "* Binary Tree\n",
    "* Binary Search Tree\n",
    "* Trie"
   ]
  },
  {
   "cell_type": "markdown",
   "id": "14825f00",
   "metadata": {},
   "source": [
    "# Linked Lists"
   ]
  },
  {
   "cell_type": "code",
   "execution_count": 1,
   "id": "63cf94b4",
   "metadata": {},
   "outputs": [],
   "source": [
    "class Link:\n",
    "    empty = ()\n",
    "    \n",
    "    def __init__(self,first,rest=empty):\n",
    "        assert rest is Link.empty or isinstance(rest, Link)\n",
    "        self.first = first\n",
    "        self.rest = rest\n",
    "        \n",
    "    def __repr__(self):\n",
    "        if self.rest:\n",
    "            rest_repr = ', ' + repr(self.rest)\n",
    "        else:\n",
    "            rest_repr = ''\n",
    "        return 'Link(' + repr(self.first) + rest_repr + ')'\n",
    "\n",
    "    def __str__(self):\n",
    "        if self.rest:\n",
    "            rest_str = '->' + str(self.rest)\n",
    "        else:\n",
    "            rest_str = ''\n",
    "        return '[' + str(self.first) + ']' + rest_str"
   ]
  },
  {
   "cell_type": "code",
   "execution_count": 2,
   "id": "d01b7205",
   "metadata": {},
   "outputs": [],
   "source": [
    "def add(s, v):\n",
    "    assert s is not Link.empty\n",
    "    if s.first > v:\n",
    "        s.first, s.rest = v, Link(s.first, s.rest)\n",
    "    elif s.first < v and s.rest==():\n",
    "        s.rest = Link(v)\n",
    "    elif s.first < v:\n",
    "        add(s.rest,v)\n",
    "    return s"
   ]
  },
  {
   "cell_type": "code",
   "execution_count": 3,
   "id": "db3729ae",
   "metadata": {},
   "outputs": [],
   "source": [
    "s = Link(1, Link(3, Link(5)))"
   ]
  },
  {
   "cell_type": "code",
   "execution_count": 4,
   "id": "f24fda48",
   "metadata": {},
   "outputs": [
    {
     "name": "stdout",
     "output_type": "stream",
     "text": [
      "[1]->[3]->[4]->[5]->[6]->[100]\n"
     ]
    }
   ],
   "source": [
    "add(s,4)\n",
    "add(s,6)\n",
    "add(s,100)\n",
    "print(s)"
   ]
  },
  {
   "cell_type": "markdown",
   "id": "ccddfecd",
   "metadata": {},
   "source": [
    "# Recursion and Memoization"
   ]
  },
  {
   "cell_type": "code",
   "execution_count": 5,
   "id": "af22b717",
   "metadata": {},
   "outputs": [],
   "source": [
    "def fib(n):\n",
    "    if n == 0 or n == 1:\n",
    "        return n\n",
    "    else:\n",
    "        return fib(n-2) + fib(n-1)"
   ]
  },
  {
   "cell_type": "code",
   "execution_count": 6,
   "id": "24c48d80",
   "metadata": {},
   "outputs": [],
   "source": [
    "def count(f):\n",
    "    def counted(*args):\n",
    "        counted.call_count += 1\n",
    "        return f(*args)\n",
    "    counted.call_count = 0\n",
    "    return counted"
   ]
  },
  {
   "cell_type": "code",
   "execution_count": 7,
   "id": "210626c4",
   "metadata": {},
   "outputs": [],
   "source": [
    "def memo(f):\n",
    "    cache = {}\n",
    "    def memoized(n):\n",
    "        if n not in cache:\n",
    "            cache[n] = f(n)\n",
    "        return cache[n]\n",
    "    return memoized"
   ]
  },
  {
   "cell_type": "code",
   "execution_count": 8,
   "id": "ea87e4bc",
   "metadata": {},
   "outputs": [],
   "source": [
    "def count_frames(f):\n",
    "    def counted(n):\n",
    "        counted.open_count += 1\n",
    "        counted.max_count = max(counted.max_count, counted.open_count)\n",
    "        result = f(n)\n",
    "        counted.open_count -= 1\n",
    "        return result\n",
    "    counted.open_count = 0\n",
    "    counted.max_count = 0\n",
    "    return counted"
   ]
  },
  {
   "cell_type": "markdown",
   "id": "632b1265",
   "metadata": {},
   "source": [
    "# Binary Trees"
   ]
  },
  {
   "cell_type": "code",
   "execution_count": 9,
   "id": "ca236299",
   "metadata": {},
   "outputs": [],
   "source": [
    "class Node:\n",
    "    def __init__(self, val):\n",
    "        self.left = None\n",
    "        self.right = None\n",
    "        self.val = val"
   ]
  },
  {
   "cell_type": "code",
   "execution_count": 10,
   "id": "fd8c1222",
   "metadata": {},
   "outputs": [
    {
     "data": {
      "text/plain": [
       "2"
      ]
     },
     "execution_count": 10,
     "metadata": {},
     "output_type": "execute_result"
    }
   ],
   "source": [
    "n = Node(1)\n",
    "n.left = Node(2)\n",
    "n.left.val"
   ]
  },
  {
   "cell_type": "code",
   "execution_count": 11,
   "id": "37f92d4f",
   "metadata": {},
   "outputs": [],
   "source": [
    "class BinaryTree:\n",
    "    def __init__(self):\n",
    "        self.root = None\n",
    "        \n",
    "    def add(self, node):\n",
    "        if self.root == None:\n",
    "            self.root = node\n",
    "        else:\n",
    "            self._add(node.val, self.root)\n",
    "            \n",
    "    def _add(self, val, node):\n",
    "        if val < node.val:\n",
    "            if node.left == None:\n",
    "                node.left = Node(val)\n",
    "            else:\n",
    "                self._add(val, node.left)\n",
    "        else:\n",
    "            if node.right == None:\n",
    "                node.right = Node(val)\n",
    "            else:\n",
    "                self._add(val, node.right)"
   ]
  },
  {
   "cell_type": "code",
   "execution_count": 12,
   "id": "6af0ac51",
   "metadata": {},
   "outputs": [],
   "source": [
    "b = BinaryTree()\n",
    "b.add(Node(2))\n",
    "b.add(Node(1))\n",
    "b.add(Node(3))"
   ]
  },
  {
   "cell_type": "code",
   "execution_count": 13,
   "id": "7bd47470",
   "metadata": {},
   "outputs": [
    {
     "data": {
      "text/plain": [
       "3"
      ]
     },
     "execution_count": 13,
     "metadata": {},
     "output_type": "execute_result"
    }
   ],
   "source": [
    "b.root.right.val"
   ]
  },
  {
   "cell_type": "code",
   "execution_count": 23,
   "id": "c3576cd8",
   "metadata": {},
   "outputs": [],
   "source": [
    "class Node:\n",
    "    def __init__(self, val):\n",
    "        self.left = None\n",
    "        self.right = None\n",
    "        self.value = val\n",
    "    \n",
    "    def __repr__(self):\n",
    "        left_repr, right_repr = '', ''\n",
    "        if self.left:\n",
    "            left_repr = '\\n->' + repr(self.left)\n",
    "        if self.right:\n",
    "            right_repr = '->' + repr(self.right)\n",
    "        return repr(self.value) + left_repr + right_repr\n",
    "        \n",
    "class BinaryTree:\n",
    "    def __init__(self):\n",
    "        self.root = None\n",
    "        \n",
    "    def add(self, vals):\n",
    "        if isinstance(vals,list) == False:\n",
    "            vals = [vals]\n",
    "        for val in vals:\n",
    "            if self.root == None:\n",
    "                self.root = Node(val)\n",
    "            else:\n",
    "                self._add(val, self.root)\n",
    "            \n",
    "    def _add(self, val, root):\n",
    "        if val < root.value:\n",
    "            if root.left == None:\n",
    "                root.left = Node(val)\n",
    "            else:\n",
    "                self._add(val, root.left)\n",
    "        else:\n",
    "            if root.right == None:\n",
    "                root.right = Node(val)\n",
    "            else:\n",
    "                self._add(val, root.right)\n",
    "                \n",
    "    def __repr__(self):\n",
    "        return repr(self.root.value) \\\n",
    "    + '\\nR->'+repr(self.root.right) \\\n",
    "    + '\\nL->'+repr(self.root.left)"
   ]
  },
  {
   "cell_type": "code",
   "execution_count": 26,
   "id": "7ed10e20",
   "metadata": {},
   "outputs": [],
   "source": [
    "b = BinaryTree()\n",
    "b.add([5,4,6,3,7])"
   ]
  },
  {
   "cell_type": "code",
   "execution_count": 27,
   "id": "1d47e497",
   "metadata": {},
   "outputs": [
    {
     "data": {
      "text/plain": [
       "5\n",
       "R->6->7\n",
       "L->4\n",
       "->3"
      ]
     },
     "execution_count": 27,
     "metadata": {},
     "output_type": "execute_result"
    }
   ],
   "source": [
    "b"
   ]
  },
  {
   "cell_type": "raw",
   "id": "629e14e0",
   "metadata": {},
   "source": []
  },
  {
   "cell_type": "markdown",
   "id": "fc478c26",
   "metadata": {},
   "source": []
  },
  {
   "cell_type": "code",
   "execution_count": null,
   "id": "171f96aa",
   "metadata": {},
   "outputs": [],
   "source": []
  }
 ],
 "metadata": {
  "kernelspec": {
   "display_name": "Python 3.10.5 64-bit",
   "language": "python",
   "name": "python3"
  },
  "language_info": {
   "codemirror_mode": {
    "name": "ipython",
    "version": 3
   },
   "file_extension": ".py",
   "mimetype": "text/x-python",
   "name": "python",
   "nbconvert_exporter": "python",
   "pygments_lexer": "ipython3",
   "version": "3.10.5"
  },
  "vscode": {
   "interpreter": {
    "hash": "918e1063f88a7aff7ffeacb262520d25bb7c7a1fef4db4c815a71d42e4b3d393"
   }
  }
 },
 "nbformat": 4,
 "nbformat_minor": 5
}
